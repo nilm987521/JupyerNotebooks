{
 "cells": [
  {
   "cell_type": "markdown",
   "id": "47985e8b",
   "metadata": {},
   "source": [
    "載入模組"
   ]
  },
  {
   "cell_type": "code",
   "execution_count": 1,
   "id": "ce3fb8cc",
   "metadata": {},
   "outputs": [],
   "source": [
    "import pandas as pd\n",
    "import matplotlib.pyplot as plt"
   ]
  },
  {
   "cell_type": "markdown",
   "id": "277e25c4",
   "metadata": {},
   "source": [
    "讀取CSV檔"
   ]
  },
  {
   "cell_type": "code",
   "execution_count": 2,
   "id": "56d5862c",
   "metadata": {},
   "outputs": [
    {
     "data": {
      "text/html": [
       "<div>\n",
       "<style scoped>\n",
       "    .dataframe tbody tr th:only-of-type {\n",
       "        vertical-align: middle;\n",
       "    }\n",
       "\n",
       "    .dataframe tbody tr th {\n",
       "        vertical-align: top;\n",
       "    }\n",
       "\n",
       "    .dataframe thead th {\n",
       "        text-align: right;\n",
       "    }\n",
       "</style>\n",
       "<table border=\"1\" class=\"dataframe\">\n",
       "  <thead>\n",
       "    <tr style=\"text-align: right;\">\n",
       "      <th></th>\n",
       "      <th>發生時間</th>\n",
       "      <th>發生地點</th>\n",
       "      <th>死亡受傷人數</th>\n",
       "      <th>車種</th>\n",
       "      <th>經度</th>\n",
       "      <th>緯度</th>\n",
       "    </tr>\n",
       "  </thead>\n",
       "  <tbody>\n",
       "    <tr>\n",
       "      <th>0</th>\n",
       "      <td>110年01月01日 04時49分00秒</td>\n",
       "      <td>屏東縣萬巒鄉鹿寮村三多路1-8號前0.0公尺附近</td>\n",
       "      <td>死亡1;受傷0</td>\n",
       "      <td>普通重型-機車;自用-小貨車(含客、貨兩用)</td>\n",
       "      <td>120.560111</td>\n",
       "      <td>22.567105</td>\n",
       "    </tr>\n",
       "    <tr>\n",
       "      <th>1</th>\n",
       "      <td>110年01月01日 04時57分00秒</td>\n",
       "      <td>臺中市霧峰區西柳橋頭</td>\n",
       "      <td>死亡1;受傷0</td>\n",
       "      <td>營業用-半聯結車;普通重型-機車</td>\n",
       "      <td>120.680001</td>\n",
       "      <td>24.070698</td>\n",
       "    </tr>\n",
       "    <tr>\n",
       "      <th>2</th>\n",
       "      <td>110年01月01日 07時30分00秒</td>\n",
       "      <td>南投縣仁愛鄉台8線 111公里100.0公尺處北側向外側</td>\n",
       "      <td>死亡1;受傷0</td>\n",
       "      <td>普通重型-機車;自用-小貨車(含客、貨兩用)</td>\n",
       "      <td>121.303376</td>\n",
       "      <td>24.191833</td>\n",
       "    </tr>\n",
       "  </tbody>\n",
       "</table>\n",
       "</div>"
      ],
      "text/plain": [
       "                   發生時間                          發生地點   死亡受傷人數  \\\n",
       "0  110年01月01日 04時49分00秒      屏東縣萬巒鄉鹿寮村三多路1-8號前0.0公尺附近  死亡1;受傷0   \n",
       "1  110年01月01日 04時57分00秒                    臺中市霧峰區西柳橋頭  死亡1;受傷0   \n",
       "2  110年01月01日 07時30分00秒  南投縣仁愛鄉台8線 111公里100.0公尺處北側向外側  死亡1;受傷0   \n",
       "\n",
       "                       車種          經度         緯度  \n",
       "0  普通重型-機車;自用-小貨車(含客、貨兩用)  120.560111  22.567105  \n",
       "1        營業用-半聯結車;普通重型-機車  120.680001  24.070698  \n",
       "2  普通重型-機車;自用-小貨車(含客、貨兩用)  121.303376  24.191833  "
      ]
     },
     "execution_count": 2,
     "metadata": {},
     "output_type": "execute_result"
    }
   ],
   "source": [
    "data = pd.read_csv(\"NPA_TMA1.csv\") \n",
    "data[0:3]"
   ]
  },
  {
   "cell_type": "markdown",
   "id": "072502be",
   "metadata": {},
   "source": [
    "移除Null(NA)"
   ]
  },
  {
   "cell_type": "code",
   "execution_count": 3,
   "id": "8ed6d8f8",
   "metadata": {},
   "outputs": [],
   "source": [
    "data = data.dropna()"
   ]
  },
  {
   "cell_type": "markdown",
   "id": "7124bb48",
   "metadata": {},
   "source": [
    "分割日期與時間"
   ]
  },
  {
   "cell_type": "code",
   "execution_count": 4,
   "id": "8df0a78f",
   "metadata": {},
   "outputs": [
    {
     "data": {
      "text/html": [
       "<div>\n",
       "<style scoped>\n",
       "    .dataframe tbody tr th:only-of-type {\n",
       "        vertical-align: middle;\n",
       "    }\n",
       "\n",
       "    .dataframe tbody tr th {\n",
       "        vertical-align: top;\n",
       "    }\n",
       "\n",
       "    .dataframe thead th {\n",
       "        text-align: right;\n",
       "    }\n",
       "</style>\n",
       "<table border=\"1\" class=\"dataframe\">\n",
       "  <thead>\n",
       "    <tr style=\"text-align: right;\">\n",
       "      <th></th>\n",
       "      <th>發生時間</th>\n",
       "      <th>日期</th>\n",
       "      <th>時間</th>\n",
       "    </tr>\n",
       "  </thead>\n",
       "  <tbody>\n",
       "    <tr>\n",
       "      <th>0</th>\n",
       "      <td>110年01月01日 04時49分00秒</td>\n",
       "      <td>110年01月01日</td>\n",
       "      <td>04時49分00秒</td>\n",
       "    </tr>\n",
       "    <tr>\n",
       "      <th>1</th>\n",
       "      <td>110年01月01日 04時57分00秒</td>\n",
       "      <td>110年01月01日</td>\n",
       "      <td>04時57分00秒</td>\n",
       "    </tr>\n",
       "    <tr>\n",
       "      <th>2</th>\n",
       "      <td>110年01月01日 07時30分00秒</td>\n",
       "      <td>110年01月01日</td>\n",
       "      <td>07時30分00秒</td>\n",
       "    </tr>\n",
       "  </tbody>\n",
       "</table>\n",
       "</div>"
      ],
      "text/plain": [
       "                   發生時間          日期         時間\n",
       "0  110年01月01日 04時49分00秒  110年01月01日  04時49分00秒\n",
       "1  110年01月01日 04時57分00秒  110年01月01日  04時57分00秒\n",
       "2  110年01月01日 07時30分00秒  110年01月01日  07時30分00秒"
      ]
     },
     "execution_count": 4,
     "metadata": {},
     "output_type": "execute_result"
    }
   ],
   "source": [
    "data[['日期','時間']]  = data['發生時間'].str.split(' ', 1, expand=True)\n",
    "data[['發生時間','日期','時間']][0:3]"
   ]
  },
  {
   "cell_type": "markdown",
   "id": "ae7e6ef8",
   "metadata": {},
   "source": [
    "分割死亡與受傷人數"
   ]
  },
  {
   "cell_type": "code",
   "execution_count": 5,
   "id": "c0a2f920",
   "metadata": {},
   "outputs": [
    {
     "data": {
      "text/html": [
       "<div>\n",
       "<style scoped>\n",
       "    .dataframe tbody tr th:only-of-type {\n",
       "        vertical-align: middle;\n",
       "    }\n",
       "\n",
       "    .dataframe tbody tr th {\n",
       "        vertical-align: top;\n",
       "    }\n",
       "\n",
       "    .dataframe thead th {\n",
       "        text-align: right;\n",
       "    }\n",
       "</style>\n",
       "<table border=\"1\" class=\"dataframe\">\n",
       "  <thead>\n",
       "    <tr style=\"text-align: right;\">\n",
       "      <th></th>\n",
       "      <th>死亡受傷人數</th>\n",
       "      <th>死亡人數</th>\n",
       "      <th>受傷人數</th>\n",
       "    </tr>\n",
       "  </thead>\n",
       "  <tbody>\n",
       "    <tr>\n",
       "      <th>0</th>\n",
       "      <td>死亡1;受傷0</td>\n",
       "      <td>死亡1</td>\n",
       "      <td>受傷0</td>\n",
       "    </tr>\n",
       "    <tr>\n",
       "      <th>1</th>\n",
       "      <td>死亡1;受傷0</td>\n",
       "      <td>死亡1</td>\n",
       "      <td>受傷0</td>\n",
       "    </tr>\n",
       "    <tr>\n",
       "      <th>2</th>\n",
       "      <td>死亡1;受傷0</td>\n",
       "      <td>死亡1</td>\n",
       "      <td>受傷0</td>\n",
       "    </tr>\n",
       "  </tbody>\n",
       "</table>\n",
       "</div>"
      ],
      "text/plain": [
       "    死亡受傷人數 死亡人數 受傷人數\n",
       "0  死亡1;受傷0  死亡1  受傷0\n",
       "1  死亡1;受傷0  死亡1  受傷0\n",
       "2  死亡1;受傷0  死亡1  受傷0"
      ]
     },
     "execution_count": 5,
     "metadata": {},
     "output_type": "execute_result"
    }
   ],
   "source": [
    "data[['死亡人數','受傷人數']] = data['死亡受傷人數'].str.split(';', 1, expand=True).infer_objects()\n",
    "data[['死亡受傷人數','死亡人數','受傷人數']][0:3]"
   ]
  },
  {
   "cell_type": "markdown",
   "id": "44913105",
   "metadata": {},
   "source": [
    "將資料內“死亡”及“受傷”文字去除，並使用astype()轉換為int型態"
   ]
  },
  {
   "cell_type": "code",
   "execution_count": 6,
   "id": "7fbb8876",
   "metadata": {},
   "outputs": [
    {
     "data": {
      "text/html": [
       "<div>\n",
       "<style scoped>\n",
       "    .dataframe tbody tr th:only-of-type {\n",
       "        vertical-align: middle;\n",
       "    }\n",
       "\n",
       "    .dataframe tbody tr th {\n",
       "        vertical-align: top;\n",
       "    }\n",
       "\n",
       "    .dataframe thead th {\n",
       "        text-align: right;\n",
       "    }\n",
       "</style>\n",
       "<table border=\"1\" class=\"dataframe\">\n",
       "  <thead>\n",
       "    <tr style=\"text-align: right;\">\n",
       "      <th></th>\n",
       "      <th>死亡人數</th>\n",
       "      <th>受傷人數</th>\n",
       "    </tr>\n",
       "  </thead>\n",
       "  <tbody>\n",
       "    <tr>\n",
       "      <th>0</th>\n",
       "      <td>1</td>\n",
       "      <td>0</td>\n",
       "    </tr>\n",
       "    <tr>\n",
       "      <th>1</th>\n",
       "      <td>1</td>\n",
       "      <td>0</td>\n",
       "    </tr>\n",
       "    <tr>\n",
       "      <th>2</th>\n",
       "      <td>1</td>\n",
       "      <td>0</td>\n",
       "    </tr>\n",
       "  </tbody>\n",
       "</table>\n",
       "</div>"
      ],
      "text/plain": [
       "   死亡人數  受傷人數\n",
       "0     1     0\n",
       "1     1     0\n",
       "2     1     0"
      ]
     },
     "execution_count": 6,
     "metadata": {},
     "output_type": "execute_result"
    }
   ],
   "source": [
    "data['死亡人數'] = data['死亡人數'].str.strip('死亡').astype(int)\n",
    "data['受傷人數'] = data['受傷人數'].str.strip('受傷').astype(int)\n",
    "data[['死亡人數','受傷人數']][0:3]"
   ]
  },
  {
   "cell_type": "markdown",
   "id": "6ffc6e36",
   "metadata": {},
   "source": [
    "擷取發生地縣市"
   ]
  },
  {
   "cell_type": "code",
   "execution_count": 7,
   "id": "b9a61158",
   "metadata": {},
   "outputs": [
    {
     "data": {
      "text/html": [
       "<div>\n",
       "<style scoped>\n",
       "    .dataframe tbody tr th:only-of-type {\n",
       "        vertical-align: middle;\n",
       "    }\n",
       "\n",
       "    .dataframe tbody tr th {\n",
       "        vertical-align: top;\n",
       "    }\n",
       "\n",
       "    .dataframe thead th {\n",
       "        text-align: right;\n",
       "    }\n",
       "</style>\n",
       "<table border=\"1\" class=\"dataframe\">\n",
       "  <thead>\n",
       "    <tr style=\"text-align: right;\">\n",
       "      <th></th>\n",
       "      <th>發生地點</th>\n",
       "      <th>縣市</th>\n",
       "    </tr>\n",
       "  </thead>\n",
       "  <tbody>\n",
       "    <tr>\n",
       "      <th>0</th>\n",
       "      <td>屏東縣萬巒鄉鹿寮村三多路1-8號前0.0公尺附近</td>\n",
       "      <td>屏東縣</td>\n",
       "    </tr>\n",
       "    <tr>\n",
       "      <th>1</th>\n",
       "      <td>臺中市霧峰區西柳橋頭</td>\n",
       "      <td>臺中市</td>\n",
       "    </tr>\n",
       "    <tr>\n",
       "      <th>2</th>\n",
       "      <td>南投縣仁愛鄉台8線 111公里100.0公尺處北側向外側</td>\n",
       "      <td>南投縣</td>\n",
       "    </tr>\n",
       "  </tbody>\n",
       "</table>\n",
       "</div>"
      ],
      "text/plain": [
       "                           發生地點   縣市\n",
       "0      屏東縣萬巒鄉鹿寮村三多路1-8號前0.0公尺附近  屏東縣\n",
       "1                    臺中市霧峰區西柳橋頭  臺中市\n",
       "2  南投縣仁愛鄉台8線 111公里100.0公尺處北側向外側  南投縣"
      ]
     },
     "execution_count": 7,
     "metadata": {},
     "output_type": "execute_result"
    }
   ],
   "source": [
    "data['縣市'] = data['發生地點'].str[0:3].astype(str)\n",
    "data[['發生地點','縣市']][0:3]"
   ]
  },
  {
   "cell_type": "markdown",
   "id": "8bc31ab8",
   "metadata": {},
   "source": [
    "將整理後的資料擷取出來"
   ]
  },
  {
   "cell_type": "code",
   "execution_count": 8,
   "id": "c991e3cb",
   "metadata": {},
   "outputs": [
    {
     "data": {
      "text/html": [
       "<div>\n",
       "<style scoped>\n",
       "    .dataframe tbody tr th:only-of-type {\n",
       "        vertical-align: middle;\n",
       "    }\n",
       "\n",
       "    .dataframe tbody tr th {\n",
       "        vertical-align: top;\n",
       "    }\n",
       "\n",
       "    .dataframe thead th {\n",
       "        text-align: right;\n",
       "    }\n",
       "</style>\n",
       "<table border=\"1\" class=\"dataframe\">\n",
       "  <thead>\n",
       "    <tr style=\"text-align: right;\">\n",
       "      <th></th>\n",
       "      <th>縣市</th>\n",
       "      <th>死亡人數</th>\n",
       "      <th>受傷人數</th>\n",
       "    </tr>\n",
       "  </thead>\n",
       "  <tbody>\n",
       "    <tr>\n",
       "      <th>0</th>\n",
       "      <td>屏東縣</td>\n",
       "      <td>1</td>\n",
       "      <td>0</td>\n",
       "    </tr>\n",
       "    <tr>\n",
       "      <th>1</th>\n",
       "      <td>臺中市</td>\n",
       "      <td>1</td>\n",
       "      <td>0</td>\n",
       "    </tr>\n",
       "    <tr>\n",
       "      <th>2</th>\n",
       "      <td>南投縣</td>\n",
       "      <td>1</td>\n",
       "      <td>0</td>\n",
       "    </tr>\n",
       "    <tr>\n",
       "      <th>3</th>\n",
       "      <td>臺中市</td>\n",
       "      <td>1</td>\n",
       "      <td>0</td>\n",
       "    </tr>\n",
       "    <tr>\n",
       "      <th>4</th>\n",
       "      <td>新北市</td>\n",
       "      <td>1</td>\n",
       "      <td>1</td>\n",
       "    </tr>\n",
       "    <tr>\n",
       "      <th>5</th>\n",
       "      <td>雲林縣</td>\n",
       "      <td>1</td>\n",
       "      <td>0</td>\n",
       "    </tr>\n",
       "    <tr>\n",
       "      <th>6</th>\n",
       "      <td>臺南市</td>\n",
       "      <td>2</td>\n",
       "      <td>2</td>\n",
       "    </tr>\n",
       "    <tr>\n",
       "      <th>7</th>\n",
       "      <td>苗栗縣</td>\n",
       "      <td>1</td>\n",
       "      <td>0</td>\n",
       "    </tr>\n",
       "    <tr>\n",
       "      <th>8</th>\n",
       "      <td>臺中市</td>\n",
       "      <td>1</td>\n",
       "      <td>0</td>\n",
       "    </tr>\n",
       "    <tr>\n",
       "      <th>9</th>\n",
       "      <td>嘉義縣</td>\n",
       "      <td>1</td>\n",
       "      <td>0</td>\n",
       "    </tr>\n",
       "  </tbody>\n",
       "</table>\n",
       "</div>"
      ],
      "text/plain": [
       "    縣市  死亡人數  受傷人數\n",
       "0  屏東縣     1     0\n",
       "1  臺中市     1     0\n",
       "2  南投縣     1     0\n",
       "3  臺中市     1     0\n",
       "4  新北市     1     1\n",
       "5  雲林縣     1     0\n",
       "6  臺南市     2     2\n",
       "7  苗栗縣     1     0\n",
       "8  臺中市     1     0\n",
       "9  嘉義縣     1     0"
      ]
     },
     "execution_count": 8,
     "metadata": {},
     "output_type": "execute_result"
    }
   ],
   "source": [
    "people_count = data[['縣市','死亡人數','受傷人數']].copy()\n",
    "people_count[0:10]"
   ]
  },
  {
   "cell_type": "markdown",
   "id": "ff08e3e8",
   "metadata": {},
   "source": [
    "統計各縣市死亡及受傷人數"
   ]
  },
  {
   "cell_type": "code",
   "execution_count": 9,
   "id": "91c6a414",
   "metadata": {},
   "outputs": [
    {
     "data": {
      "text/html": [
       "<div>\n",
       "<style scoped>\n",
       "    .dataframe tbody tr th:only-of-type {\n",
       "        vertical-align: middle;\n",
       "    }\n",
       "\n",
       "    .dataframe tbody tr th {\n",
       "        vertical-align: top;\n",
       "    }\n",
       "\n",
       "    .dataframe thead th {\n",
       "        text-align: right;\n",
       "    }\n",
       "</style>\n",
       "<table border=\"1\" class=\"dataframe\">\n",
       "  <thead>\n",
       "    <tr style=\"text-align: right;\">\n",
       "      <th></th>\n",
       "      <th>死亡人數</th>\n",
       "      <th>受傷人數</th>\n",
       "    </tr>\n",
       "    <tr>\n",
       "      <th>縣市</th>\n",
       "      <th></th>\n",
       "      <th></th>\n",
       "    </tr>\n",
       "  </thead>\n",
       "  <tbody>\n",
       "    <tr>\n",
       "      <th>南投縣</th>\n",
       "      <td>11</td>\n",
       "      <td>2</td>\n",
       "    </tr>\n",
       "    <tr>\n",
       "      <th>嘉義市</th>\n",
       "      <td>1</td>\n",
       "      <td>1</td>\n",
       "    </tr>\n",
       "    <tr>\n",
       "      <th>嘉義縣</th>\n",
       "      <td>22</td>\n",
       "      <td>11</td>\n",
       "    </tr>\n",
       "    <tr>\n",
       "      <th>基隆市</th>\n",
       "      <td>3</td>\n",
       "      <td>2</td>\n",
       "    </tr>\n",
       "    <tr>\n",
       "      <th>宜蘭縣</th>\n",
       "      <td>25</td>\n",
       "      <td>50</td>\n",
       "    </tr>\n",
       "    <tr>\n",
       "      <th>屏東縣</th>\n",
       "      <td>33</td>\n",
       "      <td>18</td>\n",
       "    </tr>\n",
       "  </tbody>\n",
       "</table>\n",
       "</div>"
      ],
      "text/plain": [
       "     死亡人數  受傷人數\n",
       "縣市             \n",
       "南投縣    11     2\n",
       "嘉義市     1     1\n",
       "嘉義縣    22    11\n",
       "基隆市     3     2\n",
       "宜蘭縣    25    50\n",
       "屏東縣    33    18"
      ]
     },
     "execution_count": 9,
     "metadata": {},
     "output_type": "execute_result"
    }
   ],
   "source": [
    "freq = people_count.groupby(['縣市']).sum()\n",
    "freq[0:6]"
   ]
  },
  {
   "cell_type": "code",
   "execution_count": 10,
   "id": "2b009d55",
   "metadata": {},
   "outputs": [
    {
     "data": {
      "image/png": "[encoded data removed]",
      "text/plain": [
       "<Figure size 720x360 with 1 Axes>"
      ]
     },
     "metadata": {
      "needs_background": "light"
     },
     "output_type": "display_data"
    }
   ],
   "source": [
    "#設定中文字體\n",
    "plt.rcParams['font.sans-serif'] = ['Noto Sans CJK TC']\n",
    "\n",
    "chart = freq.plot(kind='bar',  #圖表類型\n",
    "    title='即時交通事故分析-A1',  #圖表標題\n",
    "    xlabel='縣市',  #x軸說明文字\n",
    "    ylabel='人數',  #y軸說明文字\n",
    "    legend=True,  # 是否顯示圖例\n",
    "    figsize=(10, 5))  # 圖表大小\n",
    "plt.show()"
   ]
  }
 ],
 "metadata": {
  "kernelspec": {
   "display_name": "Python 3",
   "language": "python",
   "name": "python3"
  },
  "language_info": {
   "codemirror_mode": {
    "name": "ipython",
    "version": 3
   },
   "file_extension": ".py",
   "mimetype": "text/x-python",
   "name": "python",
   "nbconvert_exporter": "python",
   "pygments_lexer": "ipython3",
   "version": "3.8.8"
  }
 },
 "nbformat": 4,
 "nbformat_minor": 5
}
