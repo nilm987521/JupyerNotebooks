{
 "cells": [
  {
   "cell_type": "markdown",
   "id": "0b949bd4",
   "metadata": {},
   "source": [
    "## 本記事本學習目標:"
   ]
  },
  {
   "cell_type": "markdown",
   "id": "37200d32",
   "metadata": {},
   "source": [
    "- 運用pandas架構交通事故dataframe，並且做資料解析\n",
    "- 運用matplotlib結合dataframe創建簡易圖表\n",
    "- 運用pydeck結合dataframe創建3D地圖"
   ]
  },
  {
   "cell_type": "markdown",
   "id": "a4f82f60",
   "metadata": {},
   "source": [
    "## 事前準備"
   ]
  },
  {
   "cell_type": "markdown",
   "id": "24a3ab93",
   "metadata": {},
   "source": [
    "#### 安裝pandas,matplotlob,pydeck\n",
    "> pip install pandas<br>\n",
    "> pip install matplotlib<br>\n",
    "> pip install pydeck<br>\n",
    "#### 將Mapbox之token設定成環境變數\n",
    "> export MAPBOX_API_KEY = \"{YOUR MAPBOX API KEY}\""
   ]
  },
  {
   "cell_type": "markdown",
   "id": "81720c4d",
   "metadata": {},
   "source": [
    "#### 將matplotlib預設字體設定成支援中文的字體"
   ]
  },
  {
   "cell_type": "markdown",
   "id": "d5b47570",
   "metadata": {},
   "source": [
    "## 流程"
   ]
  },
  {
   "cell_type": "markdown",
   "id": "47985e8b",
   "metadata": {},
   "source": [
    "載入模組"
   ]
  },
  {
   "cell_type": "code",
   "execution_count": 1,
   "id": "ce3fb8cc",
   "metadata": {},
   "outputs": [],
   "source": [
    "import pandas as pd\n",
    "import matplotlib.pyplot as plt\n",
    "from datetime import datetime\n",
    "import pydeck as pdk\n",
    "import math"
   ]
  },
  {
   "cell_type": "markdown",
   "id": "277e25c4",
   "metadata": {},
   "source": [
    "讀取CSV檔"
   ]
  },
  {
   "cell_type": "code",
   "execution_count": 2,
   "id": "56d5862c",
   "metadata": {},
   "outputs": [],
   "source": [
    "data = pd.read_csv(\"NPA_TMA1.csv\")\n",
    "data = data.dropna()\n",
    "gps = pd.read_csv('TW_City_GPS.csv')\n",
    "gps = gps.set_index('city')"
   ]
  },
  {
   "cell_type": "markdown",
   "id": "7124bb48",
   "metadata": {},
   "source": [
    "分割日期與時間"
   ]
  },
  {
   "cell_type": "code",
   "execution_count": 3,
   "id": "8df0a78f",
   "metadata": {},
   "outputs": [],
   "source": [
    "data[['日期','時間']]  = data['發生時間'].str.split(' ', 1, expand=True)"
   ]
  },
  {
   "cell_type": "markdown",
   "id": "ae7e6ef8",
   "metadata": {},
   "source": [
    "分割死亡與受傷人數"
   ]
  },
  {
   "cell_type": "code",
   "execution_count": 4,
   "id": "c0a2f920",
   "metadata": {},
   "outputs": [],
   "source": [
    "data[['死亡人數','受傷人數']] = data['死亡受傷人數'].str.split(';', 1, expand=True).infer_objects()"
   ]
  },
  {
   "cell_type": "markdown",
   "id": "44913105",
   "metadata": {},
   "source": [
    "將資料內“死亡”及“受傷”文字去除，並使用astype()轉換為int型態"
   ]
  },
  {
   "cell_type": "code",
   "execution_count": 5,
   "id": "7fbb8876",
   "metadata": {},
   "outputs": [],
   "source": [
    "data['死亡人數'] = data['死亡人數'].str.strip('死亡').astype(int)\n",
    "data['受傷人數'] = data['受傷人數'].str.strip('受傷').astype(int)"
   ]
  },
  {
   "cell_type": "markdown",
   "id": "6ffc6e36",
   "metadata": {},
   "source": [
    "擷取發生地縣市"
   ]
  },
  {
   "cell_type": "code",
   "execution_count": 6,
   "id": "b9a61158",
   "metadata": {},
   "outputs": [],
   "source": [
    "data['縣市'] = data['發生地點'].str[0:3].astype(str)\n",
    "data[\"城市\"] = data['縣市'].str.strip('縣').str.strip('市').astype(str)"
   ]
  },
  {
   "cell_type": "markdown",
   "id": "8bc31ab8",
   "metadata": {},
   "source": [
    "將整理後的資料擷取出來"
   ]
  },
  {
   "cell_type": "code",
   "execution_count": 7,
   "id": "c991e3cb",
   "metadata": {},
   "outputs": [
    {
     "name": "stderr",
     "output_type": "stream",
     "text": [
      "<ipython-input-7-47bac64d6724>:8: SettingWithCopyWarning: \n",
      "A value is trying to be set on a copy of a slice from a DataFrame\n",
      "\n",
      "See the caveats in the documentation: https://pandas.pydata.org/pandas-docs/stable/user_guide/indexing.html#returning-a-view-versus-a-copy\n",
      "  freq['緯度'][city]  = gps.loc[city,'lat'].copy()\n",
      "<ipython-input-7-47bac64d6724>:9: SettingWithCopyWarning: \n",
      "A value is trying to be set on a copy of a slice from a DataFrame\n",
      "\n",
      "See the caveats in the documentation: https://pandas.pydata.org/pandas-docs/stable/user_guide/indexing.html#returning-a-view-versus-a-copy\n",
      "  freq['經度'][city]  = gps.loc[city,'lng'].copy()\n"
     ]
    }
   ],
   "source": [
    "people_count = data[['城市','死亡人數','受傷人數']].copy()\n",
    "freq = people_count.groupby(['城市']).sum()\n",
    "freq[0:6]\n",
    "freq['緯度'] = \"\"\n",
    "freq['經度'] = \"\"\n",
    "for city in freq.index.to_list():\n",
    "    if city in gps.index.to_list():\n",
    "        freq['緯度'][city]  = gps.loc[city,'lat'].copy()\n",
    "        freq['經度'][city]  = gps.loc[city,'lng'].copy()\n"
   ]
  },
  {
   "cell_type": "markdown",
   "id": "ff08e3e8",
   "metadata": {},
   "source": [
    "統計各縣市死亡及受傷人數"
   ]
  },
  {
   "cell_type": "code",
   "execution_count": 8,
   "id": "2b009d55",
   "metadata": {},
   "outputs": [
    {
     "data": {
      "image/png": "[encoded data removed]",
      "text/plain": [
       "<Figure size 720x360 with 1 Axes>"
      ]
     },
     "metadata": {
      "needs_background": "light"
     },
     "output_type": "display_data"
    }
   ],
   "source": [
    "chart = freq.plot(kind='bar',  #圖表類型\n",
    "    title='即時交通事故分析-A1',  #圖表標題\n",
    "    xlabel='縣市',  #x軸說明文字\n",
    "    ylabel='人數',  #y軸說明文字\n",
    "    legend=True,  # 是否顯示圖例\n",
    "    figsize=(10, 5))  # 圖表大小\n",
    "plt.rcParams['font.sans-serif'] = ['Noto Sans CJK TC'] #設定支援中文的字體\n",
    "plt.show()"
   ]
  },
  {
   "cell_type": "markdown",
   "id": "75b7e1fd",
   "metadata": {},
   "source": [
    "設定pydeck柱狀圖圖層"
   ]
  },
  {
   "cell_type": "code",
   "execution_count": 9,
   "id": "ca549f17",
   "metadata": {},
   "outputs": [],
   "source": [
    "column_layer = pdk.Layer(\n",
    "    \"ColumnLayer\",\n",
    "    freq,\n",
    "    get_position=['經度', '緯度'],\n",
    "    get_elevation=\"死亡人數\",\n",
    "    elevation_scale=1000,\n",
    "    radius=750,\n",
    "    get_fill_color=[100,10,10],\n",
    "    pickable=True,\n",
    "    auto_highlight=True,\n",
    ")"
   ]
  },
  {
   "cell_type": "markdown",
   "id": "8442f0f4",
   "metadata": {},
   "source": [
    "設定pydeck地圖圖層"
   ]
  },
  {
   "cell_type": "code",
   "execution_count": 10,
   "id": "10588c87",
   "metadata": {},
   "outputs": [],
   "source": [
    "view_state = pdk.ViewState(latitude=23.5, longitude=120.5, zoom=7, bearing=0, pitch=45, max_room=7, min_room=7)"
   ]
  },
  {
   "cell_type": "markdown",
   "id": "beee5f4d",
   "metadata": {},
   "source": [
    "執行渲染及輸出"
   ]
  },
  {
   "cell_type": "code",
   "execution_count": 11,
   "id": "5a91eca5",
   "metadata": {},
   "outputs": [
    {
     "data": {
      "application/vnd.jupyter.widget-view+json": {
       "model_id": "e946e5a1d7b6467dba07ea2d9a27da26",
       "version_major": 2,
       "version_minor": 0
      },
      "text/plain": [
       "DeckGLWidget(carto_key=None, custom_libraries=[], google_maps_key=None, json_input='{\"initialViewState\": {\"bea…"
      ]
     },
     "metadata": {},
     "output_type": "display_data"
    }
   ],
   "source": [
    "r = pdk.Deck(layers=[column_layer], initial_view_state=view_state, tooltip={\"text\": '死亡人數: {死亡人數} '},)\n",
    "r.show()\n",
    "#r.to_html(\"grid_layer.html\") #輸出成網頁"
   ]
  }
 ],
 "metadata": {
  "kernelspec": {
   "display_name": "Python 3",
   "language": "python",
   "name": "python3"
  },
  "language_info": {
   "codemirror_mode": {
    "name": "ipython",
    "version": 3
   },
   "file_extension": ".py",
   "mimetype": "text/x-python",
   "name": "python",
   "nbconvert_exporter": "python",
   "pygments_lexer": "ipython3",
   "version": "3.8.8"
  }
 },
 "nbformat": 4,
 "nbformat_minor": 5
}
