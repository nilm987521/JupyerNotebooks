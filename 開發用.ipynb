{
  "nbformat": 4,
  "nbformat_minor": 0,
  "metadata": {
    "colab": {
      "name": "開發用.ipynb",
      "provenance": [],
      "authorship_tag": "ABX9TyPCRW21ykrmWbHaOUlJq8UU",
      "include_colab_link": true
    },
    "kernelspec": {
      "name": "python3",
      "display_name": "Python 3"
    },
    "language_info": {
      "name": "python"
    },
    "accelerator": "GPU"
  },
  "cells": [
    {
      "cell_type": "markdown",
      "metadata": {
        "id": "view-in-github",
        "colab_type": "text"
      },
      "source": [
        "<a href=\"https://colab.research.google.com/github/nilm987521/JupyerNotebooks/blob/main/%E9%96%8B%E7%99%BC%E7%94%A8.ipynb\" target=\"_parent\"><img src=\"https://colab.research.google.com/assets/colab-badge.svg\" alt=\"Open In Colab\"/></a>"
      ]
    },
    {
      "cell_type": "code",
      "metadata": {
        "id": "AyeWMcLWclXu"
      },
      "source": [
        "import AnueCrawler\n",
        "crawler = AnueCrawler.crawler(\"2021-01-01\",\"2021-05-31\")\n",
        "crawler.df_to_csv()"
      ],
      "execution_count": 1,
      "outputs": []
    },
    {
      "cell_type": "code",
      "metadata": {
        "id": "TwWzCM9bpWO_"
      },
      "source": [
        ""
      ],
      "execution_count": null,
      "outputs": []
    }
  ]
}